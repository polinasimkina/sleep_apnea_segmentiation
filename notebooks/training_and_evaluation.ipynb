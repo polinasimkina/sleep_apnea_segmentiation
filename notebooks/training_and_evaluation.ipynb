{
 "cells": [
  {
   "cell_type": "code",
   "execution_count": 1,
   "id": "a46f6dfc-748e-42e8-be17-0a0b0f356c88",
   "metadata": {},
   "outputs": [
    {
     "name": "stdout",
     "output_type": "stream",
     "text": [
      "Segmentation Models: using `tf.keras` framework.\n"
     ]
    }
   ],
   "source": [
    "from keras_applications.resnet_1d import ResNet18\n",
    "from segmentation_models.models.unet_1d import Unet1D\n",
    "\n",
    "import sys\n",
    "sys.path.append('../src')\n",
    "\n",
    "from data_utils import preprocess_dataset, data_augmentation, feature_scaler\n",
    "\n",
    "%load_ext autoreload\n",
    "%autoreload 2"
   ]
  },
  {
   "cell_type": "markdown",
   "id": "b4fa9e7b-184f-4bb6-91aa-c7f2a8bf5c9d",
   "metadata": {},
   "source": [
    "# Load and pre-process the data"
   ]
  },
  {
   "cell_type": "code",
   "execution_count": 2,
   "id": "fe49caea-6aa2-4799-b672-7981a23066e0",
   "metadata": {},
   "outputs": [
    {
     "name": "stderr",
     "output_type": "stream",
     "text": [
      "/Users/polinasimkina/apneal_project/notebooks/../src/data_utils.py:99: UserWarning: Could not infer format, so each element will be parsed individually, falling back to `dateutil`. To ensure parsing is consistent and as-expected, please specify a format.\n",
      "  dt = pd.to_datetime(respevents[\"Time\"]) - pd.to_datetime(subject_details.loc[0, \"PSG Start Time\"])\n",
      "104it [00:28,  3.63it/s]\n"
     ]
    }
   ],
   "source": [
    "# obtain preprocessed data\n",
    "db_folder=\"../data/physionet.org/files/ucddb/1.0.0\"\n",
    "raw_data, _, constants = preprocess_dataset(db_folder)\n",
    "sample_rate, n_signals = constants\n",
    "\n",
    "# unpack the data\n",
    "X, y = raw_data"
   ]
  },
  {
   "cell_type": "code",
   "execution_count": 3,
   "id": "2fd2a924-39a5-4f6d-9f64-4f6f51af8671",
   "metadata": {},
   "outputs": [
    {
     "name": "stderr",
     "output_type": "stream",
     "text": [
      "100%|██████████████████████████████████████████| 25/25 [00:00<00:00, 993.80it/s]\n"
     ]
    }
   ],
   "source": [
    "# pre-process data samples into smaller time bunches 10s\n",
    "X, y = data_augmentation(X, y, dt=10, sample_rate=sample_rate)"
   ]
  },
  {
   "cell_type": "code",
   "execution_count": 4,
   "id": "e5d67a0b-0ab8-44e5-bf63-bbfecfd4351b",
   "metadata": {},
   "outputs": [
    {
     "name": "stdout",
     "output_type": "stream",
     "text": [
      "(53075, 1280, 14) (53075, 1280, 1)\n",
      "(26537, 1280, 14) (26537, 1280, 1)\n"
     ]
    }
   ],
   "source": [
    "print(X.shape, y.shape)\n",
    "\n",
    "# cut the sample in 2 as not enough resources\n",
    "X, y = X[:len(X)//2], y[:len(y)//2]\n",
    "\n",
    "print(X.shape, y.shape)"
   ]
  },
  {
   "cell_type": "code",
   "execution_count": 5,
   "id": "0cfe8dff-e165-4cfc-90c4-1bd84ed1affd",
   "metadata": {},
   "outputs": [],
   "source": [
    "# separate the dataset into train/validation/test. \n",
    "n_samples = X.shape[0]\n",
    "Xtrain, Xvalid, Xtest, ytrain, yvalid, ytest = X[:int(0.7*n_samples)], X[int(0.7*n_samples):int(0.85*n_samples)], X[int(0.85*n_samples):], y[:int(0.7*n_samples)], y[int(0.7*n_samples):int(0.85*n_samples)], y[int(0.85*n_samples):]"
   ]
  },
  {
   "cell_type": "code",
   "execution_count": 6,
   "id": "6145f8f9-9146-4587-a4b7-360d6ad32d70",
   "metadata": {},
   "outputs": [
    {
     "data": {
      "text/plain": [
       "((18575, 1280, 14),\n",
       " (18575, 1280, 1),\n",
       " (3981, 1280, 14),\n",
       " (3981, 1280, 1),\n",
       " (3981, 1280, 14),\n",
       " (3981, 1280, 1))"
      ]
     },
     "execution_count": 6,
     "metadata": {},
     "output_type": "execute_result"
    }
   ],
   "source": [
    "Xtrain.shape, ytrain.shape, Xvalid.shape, yvalid.shape, Xtest.shape, ytest.shape"
   ]
  },
  {
   "cell_type": "code",
   "execution_count": 7,
   "id": "21346253-b8aa-467a-aef9-1f1e6af7e75e",
   "metadata": {},
   "outputs": [],
   "source": [
    "# scaling the input features using StandardScaler\n",
    "for i in range(Xtrain.shape[2]):\n",
    "    Xtrain[:,:,i], Xvalid[:,:,i], Xtest[:,:,i] = feature_scaler(Xtrain[:,:,i], Xvalid[:,:,i], Xtest[:,:,i])"
   ]
  },
  {
   "cell_type": "code",
   "execution_count": 8,
   "id": "ebd04d65-2c32-4219-a757-2899da143ee9",
   "metadata": {},
   "outputs": [
    {
     "name": "stdout",
     "output_type": "stream",
     "text": [
      "(18575, 1280, 14)\n",
      "(18575, 1280, 13)\n"
     ]
    }
   ],
   "source": [
    "# delete the 3rd input feature as it is 0 \n",
    "import numpy as np\n",
    "\n",
    "print(Xtrain.shape)\n",
    "\n",
    "Xtrain = np.delete(Xtrain, 3, axis=2)\n",
    "Xvalid = np.delete(Xvalid, 3, axis=2)\n",
    "Xtest = np.delete(Xtest, 3, axis=2)\n",
    "\n",
    "print(Xtrain.shape)"
   ]
  },
  {
   "cell_type": "markdown",
   "id": "7e71a66a-1a50-4747-9862-7a05b30df1a7",
   "metadata": {},
   "source": [
    "# Load model"
   ]
  },
  {
   "cell_type": "code",
   "execution_count": 12,
   "id": "0747a81a-2f91-4668-987d-748bf660d74d",
   "metadata": {},
   "outputs": [
    {
     "name": "stderr",
     "output_type": "stream",
     "text": [
      "2023-08-23 00:33:49.657047: I metal_plugin/src/device/metal_device.cc:1154] Metal device set to: Apple M2\n",
      "2023-08-23 00:33:49.657076: I metal_plugin/src/device/metal_device.cc:296] systemMemory: 8.00 GB\n",
      "2023-08-23 00:33:49.657088: I metal_plugin/src/device/metal_device.cc:313] maxCacheSize: 2.67 GB\n",
      "2023-08-23 00:33:49.657306: I tensorflow/core/common_runtime/pluggable_device/pluggable_device_factory.cc:303] Could not identify NUMA node of platform GPU ID 0, defaulting to 0. Your kernel may not have been built with NUMA support.\n",
      "2023-08-23 00:33:49.657730: I tensorflow/core/common_runtime/pluggable_device/pluggable_device_factory.cc:269] Created TensorFlow device (/job:localhost/replica:0/task:0/device:GPU:0 with 0 MB memory) -> physical PluggableDevice (device: 0, name: METAL, pci bus id: <undefined>)\n"
     ]
    },
    {
     "name": "stdout",
     "output_type": "stream",
     "text": [
      "Model: \"model\"\n",
      "__________________________________________________________________________________________________\n",
      " Layer (type)                Output Shape                 Param #   Connected to                  \n",
      "==================================================================================================\n",
      " input_1 (InputLayer)        [(None, None, 13)]           0         []                            \n",
      "                                                                                                  \n",
      " conv1_pad (ZeroPadding1D)   (None, None, 13)             0         ['input_1[0][0]']             \n",
      "                                                                                                  \n",
      " conv1_conv (Conv1D)         (None, None, 64)             5888      ['conv1_pad[0][0]']           \n",
      "                                                                                                  \n",
      " conv1_bn (BatchNormalizati  (None, None, 64)             256       ['conv1_conv[0][0]']          \n",
      " on)                                                                                              \n",
      "                                                                                                  \n",
      " conv1_relu (Activation)     (None, None, 64)             0         ['conv1_bn[0][0]']            \n",
      "                                                                                                  \n",
      " pool1_pad (ZeroPadding1D)   (None, None, 64)             0         ['conv1_relu[0][0]']          \n",
      "                                                                                                  \n",
      " pool1_pool (MaxPooling1D)   (None, None, 64)             0         ['pool1_pad[0][0]']           \n",
      "                                                                                                  \n",
      " conv2_block1_1_conv (Conv1  (None, None, 64)             12352     ['pool1_pool[0][0]']          \n",
      " D)                                                                                               \n",
      "                                                                                                  \n",
      " conv2_block1_1_bn (BatchNo  (None, None, 64)             256       ['conv2_block1_1_conv[0][0]'] \n",
      " rmalization)                                                                                     \n",
      "                                                                                                  \n",
      " conv2_block1_1_relu (Activ  (None, None, 64)             0         ['conv2_block1_1_bn[0][0]']   \n",
      " ation)                                                                                           \n",
      "                                                                                                  \n",
      " conv2_block1_0_conv (Conv1  (None, None, 64)             4160      ['pool1_pool[0][0]']          \n",
      " D)                                                                                               \n",
      "                                                                                                  \n",
      " conv2_block1_2_conv (Conv1  (None, None, 64)             12352     ['conv2_block1_1_relu[0][0]'] \n",
      " D)                                                                                               \n",
      "                                                                                                  \n",
      " conv2_block1_0_bn (BatchNo  (None, None, 64)             256       ['conv2_block1_0_conv[0][0]'] \n",
      " rmalization)                                                                                     \n",
      "                                                                                                  \n",
      " conv2_block1_2_bn (BatchNo  (None, None, 64)             256       ['conv2_block1_2_conv[0][0]'] \n",
      " rmalization)                                                                                     \n",
      "                                                                                                  \n",
      " conv2_block1_add (Add)      (None, None, 64)             0         ['conv2_block1_0_bn[0][0]',   \n",
      "                                                                     'conv2_block1_2_bn[0][0]']   \n",
      "                                                                                                  \n",
      " conv2_block1_out (Activati  (None, None, 64)             0         ['conv2_block1_add[0][0]']    \n",
      " on)                                                                                              \n",
      "                                                                                                  \n",
      " conv2_block2_1_conv (Conv1  (None, None, 64)             12352     ['conv2_block1_out[0][0]']    \n",
      " D)                                                                                               \n",
      "                                                                                                  \n",
      " conv2_block2_1_bn (BatchNo  (None, None, 64)             256       ['conv2_block2_1_conv[0][0]'] \n",
      " rmalization)                                                                                     \n",
      "                                                                                                  \n",
      " conv2_block2_1_relu (Activ  (None, None, 64)             0         ['conv2_block2_1_bn[0][0]']   \n",
      " ation)                                                                                           \n",
      "                                                                                                  \n",
      " conv2_block2_2_conv (Conv1  (None, None, 64)             12352     ['conv2_block2_1_relu[0][0]'] \n",
      " D)                                                                                               \n",
      "                                                                                                  \n",
      " conv2_block2_2_bn (BatchNo  (None, None, 64)             256       ['conv2_block2_2_conv[0][0]'] \n",
      " rmalization)                                                                                     \n",
      "                                                                                                  \n",
      " conv2_block2_add (Add)      (None, None, 64)             0         ['conv2_block1_out[0][0]',    \n",
      "                                                                     'conv2_block2_2_bn[0][0]']   \n",
      "                                                                                                  \n",
      " conv2_block2_out (Activati  (None, None, 64)             0         ['conv2_block2_add[0][0]']    \n",
      " on)                                                                                              \n",
      "                                                                                                  \n",
      " conv3_block1_1_conv (Conv1  (None, None, 128)            24704     ['conv2_block2_out[0][0]']    \n",
      " D)                                                                                               \n",
      "                                                                                                  \n",
      " conv3_block1_1_bn (BatchNo  (None, None, 128)            512       ['conv3_block1_1_conv[0][0]'] \n",
      " rmalization)                                                                                     \n",
      "                                                                                                  \n",
      " conv3_block1_1_relu (Activ  (None, None, 128)            0         ['conv3_block1_1_bn[0][0]']   \n",
      " ation)                                                                                           \n",
      "                                                                                                  \n",
      " conv3_block1_0_conv (Conv1  (None, None, 128)            8320      ['conv2_block2_out[0][0]']    \n",
      " D)                                                                                               \n",
      "                                                                                                  \n",
      " conv3_block1_2_conv (Conv1  (None, None, 128)            49280     ['conv3_block1_1_relu[0][0]'] \n",
      " D)                                                                                               \n",
      "                                                                                                  \n",
      " conv3_block1_0_bn (BatchNo  (None, None, 128)            512       ['conv3_block1_0_conv[0][0]'] \n",
      " rmalization)                                                                                     \n",
      "                                                                                                  \n",
      " conv3_block1_2_bn (BatchNo  (None, None, 128)            512       ['conv3_block1_2_conv[0][0]'] \n",
      " rmalization)                                                                                     \n",
      "                                                                                                  \n",
      " conv3_block1_add (Add)      (None, None, 128)            0         ['conv3_block1_0_bn[0][0]',   \n",
      "                                                                     'conv3_block1_2_bn[0][0]']   \n",
      "                                                                                                  \n",
      " conv3_block1_out (Activati  (None, None, 128)            0         ['conv3_block1_add[0][0]']    \n",
      " on)                                                                                              \n",
      "                                                                                                  \n",
      " conv3_block2_1_conv (Conv1  (None, None, 128)            49280     ['conv3_block1_out[0][0]']    \n",
      " D)                                                                                               \n",
      "                                                                                                  \n",
      " conv3_block2_1_bn (BatchNo  (None, None, 128)            512       ['conv3_block2_1_conv[0][0]'] \n",
      " rmalization)                                                                                     \n",
      "                                                                                                  \n",
      " conv3_block2_1_relu (Activ  (None, None, 128)            0         ['conv3_block2_1_bn[0][0]']   \n",
      " ation)                                                                                           \n",
      "                                                                                                  \n",
      " conv3_block2_2_conv (Conv1  (None, None, 128)            49280     ['conv3_block2_1_relu[0][0]'] \n",
      " D)                                                                                               \n",
      "                                                                                                  \n",
      " conv3_block2_2_bn (BatchNo  (None, None, 128)            512       ['conv3_block2_2_conv[0][0]'] \n",
      " rmalization)                                                                                     \n",
      "                                                                                                  \n",
      " conv3_block2_add (Add)      (None, None, 128)            0         ['conv3_block1_out[0][0]',    \n",
      "                                                                     'conv3_block2_2_bn[0][0]']   \n",
      "                                                                                                  \n",
      " conv3_block2_out (Activati  (None, None, 128)            0         ['conv3_block2_add[0][0]']    \n",
      " on)                                                                                              \n",
      "                                                                                                  \n",
      " conv4_block1_1_conv (Conv1  (None, None, 256)            98560     ['conv3_block2_out[0][0]']    \n",
      " D)                                                                                               \n",
      "                                                                                                  \n",
      " conv4_block1_1_bn (BatchNo  (None, None, 256)            1024      ['conv4_block1_1_conv[0][0]'] \n",
      " rmalization)                                                                                     \n",
      "                                                                                                  \n",
      " conv4_block1_1_relu (Activ  (None, None, 256)            0         ['conv4_block1_1_bn[0][0]']   \n",
      " ation)                                                                                           \n",
      "                                                                                                  \n",
      " conv4_block1_0_conv (Conv1  (None, None, 256)            33024     ['conv3_block2_out[0][0]']    \n",
      " D)                                                                                               \n",
      "                                                                                                  \n",
      " conv4_block1_2_conv (Conv1  (None, None, 256)            196864    ['conv4_block1_1_relu[0][0]'] \n",
      " D)                                                                                               \n",
      "                                                                                                  \n",
      " conv4_block1_0_bn (BatchNo  (None, None, 256)            1024      ['conv4_block1_0_conv[0][0]'] \n",
      " rmalization)                                                                                     \n",
      "                                                                                                  \n",
      " conv4_block1_2_bn (BatchNo  (None, None, 256)            1024      ['conv4_block1_2_conv[0][0]'] \n",
      " rmalization)                                                                                     \n",
      "                                                                                                  \n",
      " conv4_block1_add (Add)      (None, None, 256)            0         ['conv4_block1_0_bn[0][0]',   \n",
      "                                                                     'conv4_block1_2_bn[0][0]']   \n",
      "                                                                                                  \n",
      " conv4_block1_out (Activati  (None, None, 256)            0         ['conv4_block1_add[0][0]']    \n",
      " on)                                                                                              \n",
      "                                                                                                  \n",
      " conv4_block2_1_conv (Conv1  (None, None, 256)            196864    ['conv4_block1_out[0][0]']    \n",
      " D)                                                                                               \n",
      "                                                                                                  \n",
      " conv4_block2_1_bn (BatchNo  (None, None, 256)            1024      ['conv4_block2_1_conv[0][0]'] \n",
      " rmalization)                                                                                     \n",
      "                                                                                                  \n",
      " conv4_block2_1_relu (Activ  (None, None, 256)            0         ['conv4_block2_1_bn[0][0]']   \n",
      " ation)                                                                                           \n",
      "                                                                                                  \n",
      " conv4_block2_2_conv (Conv1  (None, None, 256)            196864    ['conv4_block2_1_relu[0][0]'] \n",
      " D)                                                                                               \n",
      "                                                                                                  \n",
      " conv4_block2_2_bn (BatchNo  (None, None, 256)            1024      ['conv4_block2_2_conv[0][0]'] \n",
      " rmalization)                                                                                     \n",
      "                                                                                                  \n",
      " conv4_block2_add (Add)      (None, None, 256)            0         ['conv4_block1_out[0][0]',    \n",
      "                                                                     'conv4_block2_2_bn[0][0]']   \n",
      "                                                                                                  \n",
      " conv4_block2_out (Activati  (None, None, 256)            0         ['conv4_block2_add[0][0]']    \n",
      " on)                                                                                              \n",
      "                                                                                                  \n",
      " conv5_block1_1_conv (Conv1  (None, None, 512)            393728    ['conv4_block2_out[0][0]']    \n",
      " D)                                                                                               \n",
      "                                                                                                  \n",
      " conv5_block1_1_bn (BatchNo  (None, None, 512)            2048      ['conv5_block1_1_conv[0][0]'] \n",
      " rmalization)                                                                                     \n",
      "                                                                                                  \n",
      " conv5_block1_1_relu (Activ  (None, None, 512)            0         ['conv5_block1_1_bn[0][0]']   \n",
      " ation)                                                                                           \n",
      "                                                                                                  \n",
      " conv5_block1_0_conv (Conv1  (None, None, 512)            131584    ['conv4_block2_out[0][0]']    \n",
      " D)                                                                                               \n",
      "                                                                                                  \n",
      " conv5_block1_2_conv (Conv1  (None, None, 512)            786944    ['conv5_block1_1_relu[0][0]'] \n",
      " D)                                                                                               \n",
      "                                                                                                  \n",
      " conv5_block1_0_bn (BatchNo  (None, None, 512)            2048      ['conv5_block1_0_conv[0][0]'] \n",
      " rmalization)                                                                                     \n",
      "                                                                                                  \n",
      " conv5_block1_2_bn (BatchNo  (None, None, 512)            2048      ['conv5_block1_2_conv[0][0]'] \n",
      " rmalization)                                                                                     \n",
      "                                                                                                  \n",
      " conv5_block1_add (Add)      (None, None, 512)            0         ['conv5_block1_0_bn[0][0]',   \n",
      "                                                                     'conv5_block1_2_bn[0][0]']   \n",
      "                                                                                                  \n",
      " conv5_block1_out (Activati  (None, None, 512)            0         ['conv5_block1_add[0][0]']    \n",
      " on)                                                                                              \n",
      "                                                                                                  \n",
      " conv5_block2_1_conv (Conv1  (None, None, 512)            786944    ['conv5_block1_out[0][0]']    \n",
      " D)                                                                                               \n",
      "                                                                                                  \n",
      " conv5_block2_1_bn (BatchNo  (None, None, 512)            2048      ['conv5_block2_1_conv[0][0]'] \n",
      " rmalization)                                                                                     \n",
      "                                                                                                  \n",
      " conv5_block2_1_relu (Activ  (None, None, 512)            0         ['conv5_block2_1_bn[0][0]']   \n",
      " ation)                                                                                           \n",
      "                                                                                                  \n",
      " conv5_block2_2_conv (Conv1  (None, None, 512)            786944    ['conv5_block2_1_relu[0][0]'] \n",
      " D)                                                                                               \n",
      "                                                                                                  \n",
      " conv5_block2_2_bn (BatchNo  (None, None, 512)            2048      ['conv5_block2_2_conv[0][0]'] \n",
      " rmalization)                                                                                     \n",
      "                                                                                                  \n",
      " conv5_block2_add (Add)      (None, None, 512)            0         ['conv5_block1_out[0][0]',    \n",
      "                                                                     'conv5_block2_2_bn[0][0]']   \n",
      "                                                                                                  \n",
      " conv5_block2_out (Activati  (None, None, 512)            0         ['conv5_block2_add[0][0]']    \n",
      " on)                                                                                              \n",
      "                                                                                                  \n",
      " decoder_stage0_upsampling   (None, None, 512)            0         ['conv5_block2_out[0][0]']    \n",
      " (UpSampling1D)                                                                                   \n",
      "                                                                                                  \n",
      " decoder_stage0_concat (Con  (None, None, 768)            0         ['decoder_stage0_upsampling[0]\n",
      " catenate)                                                          [0]',                         \n",
      "                                                                     'conv4_block2_out[0][0]']    \n",
      "                                                                                                  \n",
      " decoder_stage0a_conv (Conv  (None, None, 256)            589824    ['decoder_stage0_concat[0][0]'\n",
      " 1D)                                                                ]                             \n",
      "                                                                                                  \n",
      " decoder_stage0a_bn (BatchN  (None, None, 256)            1024      ['decoder_stage0a_conv[0][0]']\n",
      " ormalization)                                                                                    \n",
      "                                                                                                  \n",
      " decoder_stage0a_relu (Acti  (None, None, 256)            0         ['decoder_stage0a_bn[0][0]']  \n",
      " vation)                                                                                          \n",
      "                                                                                                  \n",
      " decoder_stage0b_conv (Conv  (None, None, 256)            196608    ['decoder_stage0a_relu[0][0]']\n",
      " 1D)                                                                                              \n",
      "                                                                                                  \n",
      " decoder_stage0b_bn (BatchN  (None, None, 256)            1024      ['decoder_stage0b_conv[0][0]']\n",
      " ormalization)                                                                                    \n",
      "                                                                                                  \n",
      " decoder_stage0b_relu (Acti  (None, None, 256)            0         ['decoder_stage0b_bn[0][0]']  \n",
      " vation)                                                                                          \n",
      "                                                                                                  \n",
      " decoder_stage1_upsampling   (None, None, 256)            0         ['decoder_stage0b_relu[0][0]']\n",
      " (UpSampling1D)                                                                                   \n",
      "                                                                                                  \n",
      " decoder_stage1_concat (Con  (None, None, 384)            0         ['decoder_stage1_upsampling[0]\n",
      " catenate)                                                          [0]',                         \n",
      "                                                                     'conv3_block2_out[0][0]']    \n",
      "                                                                                                  \n",
      " decoder_stage1a_conv (Conv  (None, None, 128)            147456    ['decoder_stage1_concat[0][0]'\n",
      " 1D)                                                                ]                             \n",
      "                                                                                                  \n",
      " decoder_stage1a_bn (BatchN  (None, None, 128)            512       ['decoder_stage1a_conv[0][0]']\n",
      " ormalization)                                                                                    \n",
      "                                                                                                  \n",
      " decoder_stage1a_relu (Acti  (None, None, 128)            0         ['decoder_stage1a_bn[0][0]']  \n",
      " vation)                                                                                          \n",
      "                                                                                                  \n",
      " decoder_stage1b_conv (Conv  (None, None, 128)            49152     ['decoder_stage1a_relu[0][0]']\n",
      " 1D)                                                                                              \n",
      "                                                                                                  \n",
      " decoder_stage1b_bn (BatchN  (None, None, 128)            512       ['decoder_stage1b_conv[0][0]']\n",
      " ormalization)                                                                                    \n",
      "                                                                                                  \n",
      " decoder_stage1b_relu (Acti  (None, None, 128)            0         ['decoder_stage1b_bn[0][0]']  \n",
      " vation)                                                                                          \n",
      "                                                                                                  \n",
      " decoder_stage2_upsampling   (None, None, 128)            0         ['decoder_stage1b_relu[0][0]']\n",
      " (UpSampling1D)                                                                                   \n",
      "                                                                                                  \n",
      " decoder_stage2_concat (Con  (None, None, 192)            0         ['decoder_stage2_upsampling[0]\n",
      " catenate)                                                          [0]',                         \n",
      "                                                                     'conv2_block2_out[0][0]']    \n",
      "                                                                                                  \n",
      " decoder_stage2a_conv (Conv  (None, None, 64)             36864     ['decoder_stage2_concat[0][0]'\n",
      " 1D)                                                                ]                             \n",
      "                                                                                                  \n",
      " decoder_stage2a_bn (BatchN  (None, None, 64)             256       ['decoder_stage2a_conv[0][0]']\n",
      " ormalization)                                                                                    \n",
      "                                                                                                  \n",
      " decoder_stage2a_relu (Acti  (None, None, 64)             0         ['decoder_stage2a_bn[0][0]']  \n",
      " vation)                                                                                          \n",
      "                                                                                                  \n",
      " decoder_stage2b_conv (Conv  (None, None, 64)             12288     ['decoder_stage2a_relu[0][0]']\n",
      " 1D)                                                                                              \n",
      "                                                                                                  \n",
      " decoder_stage2b_bn (BatchN  (None, None, 64)             256       ['decoder_stage2b_conv[0][0]']\n",
      " ormalization)                                                                                    \n",
      "                                                                                                  \n",
      " decoder_stage2b_relu (Acti  (None, None, 64)             0         ['decoder_stage2b_bn[0][0]']  \n",
      " vation)                                                                                          \n",
      "                                                                                                  \n",
      " decoder_stage3_upsampling   (None, None, 64)             0         ['decoder_stage2b_relu[0][0]']\n",
      " (UpSampling1D)                                                                                   \n",
      "                                                                                                  \n",
      " decoder_stage3_concat (Con  (None, None, 128)            0         ['decoder_stage3_upsampling[0]\n",
      " catenate)                                                          [0]',                         \n",
      "                                                                     'conv1_relu[0][0]']          \n",
      "                                                                                                  \n",
      " decoder_stage3a_conv (Conv  (None, None, 32)             12288     ['decoder_stage3_concat[0][0]'\n",
      " 1D)                                                                ]                             \n",
      "                                                                                                  \n",
      " decoder_stage3a_bn (BatchN  (None, None, 32)             128       ['decoder_stage3a_conv[0][0]']\n",
      " ormalization)                                                                                    \n",
      "                                                                                                  \n",
      " decoder_stage3a_relu (Acti  (None, None, 32)             0         ['decoder_stage3a_bn[0][0]']  \n",
      " vation)                                                                                          \n",
      "                                                                                                  \n",
      " decoder_stage3b_conv (Conv  (None, None, 32)             3072      ['decoder_stage3a_relu[0][0]']\n",
      " 1D)                                                                                              \n",
      "                                                                                                  \n",
      " decoder_stage3b_bn (BatchN  (None, None, 32)             128       ['decoder_stage3b_conv[0][0]']\n",
      " ormalization)                                                                                    \n",
      "                                                                                                  \n",
      " decoder_stage3b_relu (Acti  (None, None, 32)             0         ['decoder_stage3b_bn[0][0]']  \n",
      " vation)                                                                                          \n",
      "                                                                                                  \n",
      " decoder_stage4_upsampling   (None, None, 32)             0         ['decoder_stage3b_relu[0][0]']\n",
      " (UpSampling1D)                                                                                   \n",
      "                                                                                                  \n",
      " decoder_stage4a_conv (Conv  (None, None, 16)             1536      ['decoder_stage4_upsampling[0]\n",
      " 1D)                                                                [0]']                         \n",
      "                                                                                                  \n",
      " decoder_stage4a_bn (BatchN  (None, None, 16)             64        ['decoder_stage4a_conv[0][0]']\n",
      " ormalization)                                                                                    \n",
      "                                                                                                  \n",
      " decoder_stage4a_relu (Acti  (None, None, 16)             0         ['decoder_stage4a_bn[0][0]']  \n",
      " vation)                                                                                          \n",
      "                                                                                                  \n",
      " decoder_stage4b_conv (Conv  (None, None, 16)             768       ['decoder_stage4a_relu[0][0]']\n",
      " 1D)                                                                                              \n",
      "                                                                                                  \n",
      " decoder_stage4b_bn (BatchN  (None, None, 16)             64        ['decoder_stage4b_conv[0][0]']\n",
      " ormalization)                                                                                    \n",
      "                                                                                                  \n",
      " decoder_stage4b_relu (Acti  (None, None, 16)             0         ['decoder_stage4b_bn[0][0]']  \n",
      " vation)                                                                                          \n",
      "                                                                                                  \n",
      " final_conv (Conv1D)         (None, None, 1)              49        ['decoder_stage4b_relu[0][0]']\n",
      "                                                                                                  \n",
      " sigmoid (Activation)        (None, None, 1)              0         ['final_conv[0][0]']          \n",
      "                                                                                                  \n",
      "==================================================================================================\n",
      "Total params: 4921969 (18.78 MB)\n",
      "Trainable params: 4910257 (18.73 MB)\n",
      "Non-trainable params: 11712 (45.75 KB)\n",
      "__________________________________________________________________________________________________\n"
     ]
    }
   ],
   "source": [
    "BACKBONE = 'resnet18_1d'\n",
    "\n",
    "model = Unet1D(BACKBONE, input_shape= (None, 13), encoder_weights=None, classes=1, activation='sigmoid')\n",
    "model.summary()\n",
    "\n",
    "model.compile('Adam', 'binary_crossentropy', ['binary_accuracy'])"
   ]
  },
  {
   "cell_type": "markdown",
   "id": "d476d443-db80-4a52-b5ba-960aba60ec08",
   "metadata": {},
   "source": [
    "# First baseline training"
   ]
  },
  {
   "cell_type": "code",
   "execution_count": 13,
   "id": "bd208144-98da-4bf0-b483-f35ddba2ad33",
   "metadata": {},
   "outputs": [
    {
     "name": "stdout",
     "output_type": "stream",
     "text": [
      "Epoch 1/20\n"
     ]
    },
    {
     "name": "stderr",
     "output_type": "stream",
     "text": [
      "2023-08-23 00:33:56.184464: I tensorflow/core/grappler/optimizers/custom_graph_optimizer_registry.cc:114] Plugin optimizer for device_type GPU is enabled.\n"
     ]
    },
    {
     "name": "stdout",
     "output_type": "stream",
     "text": [
      "291/291 [==============================] - ETA: 0s - loss: 0.3657 - binary_accuracy: 0.8860"
     ]
    },
    {
     "name": "stderr",
     "output_type": "stream",
     "text": [
      "2023-08-23 00:37:07.335788: I tensorflow/core/grappler/optimizers/custom_graph_optimizer_registry.cc:114] Plugin optimizer for device_type GPU is enabled.\n"
     ]
    },
    {
     "name": "stdout",
     "output_type": "stream",
     "text": [
      "291/291 [==============================] - 200s 638ms/step - loss: 0.3657 - binary_accuracy: 0.8860 - val_loss: 0.3649 - val_binary_accuracy: 0.8802\n",
      "Epoch 2/20\n",
      "291/291 [==============================] - 173s 594ms/step - loss: 0.3407 - binary_accuracy: 0.8917 - val_loss: 0.3652 - val_binary_accuracy: 0.8802\n",
      "Epoch 3/20\n",
      "291/291 [==============================] - 135s 464ms/step - loss: 0.3400 - binary_accuracy: 0.8916 - val_loss: 0.3611 - val_binary_accuracy: 0.8802\n",
      "Epoch 4/20\n",
      "291/291 [==============================] - 471s 2s/step - loss: 0.3381 - binary_accuracy: 0.8917 - val_loss: 0.3672 - val_binary_accuracy: 0.8802\n",
      "Epoch 5/20\n",
      "291/291 [==============================] - 192s 661ms/step - loss: 0.3385 - binary_accuracy: 0.8916 - val_loss: 0.3618 - val_binary_accuracy: 0.8802\n",
      "Epoch 6/20\n",
      "291/291 [==============================] - 189s 651ms/step - loss: 0.3373 - binary_accuracy: 0.8915 - val_loss: 0.3670 - val_binary_accuracy: 0.8802\n",
      "Epoch 7/20\n",
      "291/291 [==============================] - 787s 3s/step - loss: 0.3360 - binary_accuracy: 0.8917 - val_loss: 0.3610 - val_binary_accuracy: 0.8804\n",
      "Epoch 8/20\n",
      "291/291 [==============================] - 162s 556ms/step - loss: 0.3351 - binary_accuracy: 0.8918 - val_loss: 0.3619 - val_binary_accuracy: 0.8802\n",
      "Epoch 9/20\n",
      "291/291 [==============================] - 172s 590ms/step - loss: 0.3345 - binary_accuracy: 0.8922 - val_loss: 0.3584 - val_binary_accuracy: 0.8820\n",
      "Epoch 10/20\n",
      "291/291 [==============================] - 190s 652ms/step - loss: 0.3327 - binary_accuracy: 0.8923 - val_loss: 0.3613 - val_binary_accuracy: 0.8819\n",
      "Epoch 11/20\n",
      "291/291 [==============================] - 694s 2s/step - loss: 0.3323 - binary_accuracy: 0.8923 - val_loss: 0.3589 - val_binary_accuracy: 0.8820\n",
      "Epoch 12/20\n",
      "291/291 [==============================] - 192s 661ms/step - loss: 0.3307 - binary_accuracy: 0.8925 - val_loss: 0.3559 - val_binary_accuracy: 0.8810\n",
      "Epoch 13/20\n",
      "291/291 [==============================] - 196s 673ms/step - loss: 0.3296 - binary_accuracy: 0.8927 - val_loss: 0.3530 - val_binary_accuracy: 0.8824\n",
      "Epoch 14/20\n",
      "291/291 [==============================] - 182s 626ms/step - loss: 0.3277 - binary_accuracy: 0.8928 - val_loss: 0.3566 - val_binary_accuracy: 0.8819\n",
      "Epoch 15/20\n",
      "291/291 [==============================] - 185s 636ms/step - loss: 0.3269 - binary_accuracy: 0.8929 - val_loss: 0.3554 - val_binary_accuracy: 0.8816\n",
      "Epoch 16/20\n",
      "291/291 [==============================] - 187s 642ms/step - loss: 0.3264 - binary_accuracy: 0.8929 - val_loss: 0.3499 - val_binary_accuracy: 0.8825\n",
      "Epoch 17/20\n",
      "291/291 [==============================] - 188s 644ms/step - loss: 0.3247 - binary_accuracy: 0.8928 - val_loss: 0.3551 - val_binary_accuracy: 0.8805\n",
      "Epoch 18/20\n",
      "291/291 [==============================] - 188s 645ms/step - loss: 0.3229 - binary_accuracy: 0.8928 - val_loss: 0.3506 - val_binary_accuracy: 0.8822\n",
      "Epoch 19/20\n",
      "291/291 [==============================] - 184s 632ms/step - loss: 0.3222 - binary_accuracy: 0.8929 - val_loss: 0.3486 - val_binary_accuracy: 0.8828\n",
      "Epoch 20/20\n",
      "291/291 [==============================] - 187s 643ms/step - loss: 0.3204 - binary_accuracy: 0.8929 - val_loss: 0.3458 - val_binary_accuracy: 0.8822\n"
     ]
    }
   ],
   "source": [
    "history = model.fit(Xtrain, ytrain, \n",
    "                    epochs=20, \n",
    "                    validation_data=(Xvalid, yvalid),\n",
    "                    batch_size=64)"
   ]
  },
  {
   "cell_type": "code",
   "execution_count": 14,
   "id": "b1d4b402-5a23-4b20-b13b-9447f3cb6938",
   "metadata": {},
   "outputs": [],
   "source": [
    "# Save the weights\n",
    "model.save_weights('../models/baseline_1')"
   ]
  },
  {
   "cell_type": "markdown",
   "id": "fb80d8e0-8f63-4e8e-b396-d27f8c557f62",
   "metadata": {},
   "source": [
    "# Evaluation on validation dataset"
   ]
  },
  {
   "cell_type": "code",
   "execution_count": 2,
   "id": "ffb204a0-605a-4796-85eb-89cc03d74f40",
   "metadata": {},
   "outputs": [
    {
     "ename": "NameError",
     "evalue": "name 'model' is not defined",
     "output_type": "error",
     "traceback": [
      "\u001b[0;31m---------------------------------------------------------------------------\u001b[0m",
      "\u001b[0;31mNameError\u001b[0m                                 Traceback (most recent call last)",
      "Cell \u001b[0;32mIn[2], line 1\u001b[0m\n\u001b[0;32m----> 1\u001b[0m ypr \u001b[39m=\u001b[39m model\u001b[39m.\u001b[39mpredict(Xvalid)\n",
      "\u001b[0;31mNameError\u001b[0m: name 'model' is not defined"
     ]
    }
   ],
   "source": [
    "# predict the results on the validation dataset\n",
    "ypr = model.predict(Xvalid)"
   ]
  },
  {
   "cell_type": "code",
   "execution_count": 3,
   "id": "9c136a2e-bd34-4a10-9ed7-693d6ca4f079",
   "metadata": {},
   "outputs": [
    {
     "ename": "NameError",
     "evalue": "name 'draw_metrics' is not defined",
     "output_type": "error",
     "traceback": [
      "\u001b[0;31m---------------------------------------------------------------------------\u001b[0m",
      "\u001b[0;31mNameError\u001b[0m                                 Traceback (most recent call last)",
      "Cell \u001b[0;32mIn[3], line 1\u001b[0m\n\u001b[0;32m----> 1\u001b[0m draw_metrics(ypr, yvalid)\n",
      "\u001b[0;31mNameError\u001b[0m: name 'draw_metrics' is not defined"
     ]
    }
   ],
   "source": [
    "from visualisation import draw_metrics\n",
    "draw_metrics(ypr, yvalid)"
   ]
  },
  {
   "cell_type": "code",
   "execution_count": 18,
   "id": "dddf0226-5c8f-4a9a-ba61-f4140e7b2a6f",
   "metadata": {},
   "outputs": [
    {
     "data": {
      "text/plain": [
       "(0.10832301480484523, 0.8916769851951548)"
      ]
     },
     "execution_count": 18,
     "metadata": {},
     "output_type": "execute_result"
    }
   ],
   "source": [
    "# check the amount of classes in the train and validation dataset\n",
    "(ytrain == True).sum()/len(ytrain.flatten()), (ytrain == False).sum()/len(ytrain.flatten())"
   ]
  },
  {
   "cell_type": "code",
   "execution_count": 19,
   "id": "d0bee32b-4cb7-46f1-a3d4-c4a0fc1557ce",
   "metadata": {},
   "outputs": [
    {
     "data": {
      "text/plain": [
       "(0.11984426023612157, 0.8801557397638784)"
      ]
     },
     "execution_count": 19,
     "metadata": {},
     "output_type": "execute_result"
    }
   ],
   "source": [
    "(yvalid == True).sum()/len(yvalid.flatten()), (yvalid == False).sum()/len(yvalid.flatten())"
   ]
  },
  {
   "cell_type": "markdown",
   "id": "b90b3efa-3db4-4783-9e6f-0f5dab096eb5",
   "metadata": {},
   "source": [
    "# Improving for imbalanced classes"
   ]
  },
  {
   "cell_type": "code",
   "execution_count": 4,
   "id": "098199af-0dc6-42f9-82c8-a9ef3c91f6d6",
   "metadata": {},
   "outputs": [
    {
     "ename": "NameError",
     "evalue": "name 'Unet1D' is not defined",
     "output_type": "error",
     "traceback": [
      "\u001b[0;31m---------------------------------------------------------------------------\u001b[0m",
      "\u001b[0;31mNameError\u001b[0m                                 Traceback (most recent call last)",
      "Cell \u001b[0;32mIn[4], line 4\u001b[0m\n\u001b[1;32m      1\u001b[0m \u001b[39mimport\u001b[39;00m \u001b[39mtensorflow\u001b[39;00m \u001b[39mas\u001b[39;00m \u001b[39mtf\u001b[39;00m\n\u001b[1;32m      3\u001b[0m BACKBONE \u001b[39m=\u001b[39m \u001b[39m'\u001b[39m\u001b[39mresnet18_1d\u001b[39m\u001b[39m'\u001b[39m\n\u001b[0;32m----> 4\u001b[0m model \u001b[39m=\u001b[39m Unet1D(BACKBONE, input_shape\u001b[39m=\u001b[39m (\u001b[39mNone\u001b[39;00m, \u001b[39m13\u001b[39m), classes\u001b[39m=\u001b[39m\u001b[39m1\u001b[39m, activation\u001b[39m=\u001b[39m\u001b[39m'\u001b[39m\u001b[39msigmoid\u001b[39m\u001b[39m'\u001b[39m)\n\u001b[1;32m      5\u001b[0m model\u001b[39m.\u001b[39msummary()\n\u001b[1;32m      7\u001b[0m model\u001b[39m.\u001b[39mcompile(\u001b[39m'\u001b[39m\u001b[39mAdam\u001b[39m\u001b[39m'\u001b[39m, tf\u001b[39m.\u001b[39mkeras\u001b[39m.\u001b[39mlosses\u001b[39m.\u001b[39mBinaryFocalCrossentropy(), [\u001b[39m'\u001b[39m\u001b[39mbinary_accuracy\u001b[39m\u001b[39m'\u001b[39m])\n",
      "\u001b[0;31mNameError\u001b[0m: name 'Unet1D' is not defined"
     ]
    }
   ],
   "source": [
    "import tensorflow as tf\n",
    "\n",
    "BACKBONE = 'resnet18_1d'\n",
    "model = Unet1D(BACKBONE, input_shape= (None, 13), classes=1, activation='sigmoid')\n",
    "model.summary()\n",
    "\n",
    "# using focal loss\n",
    "model.compile('Adam', tf.keras.losses.BinaryFocalCrossentropy(), ['binary_accuracy'])"
   ]
  },
  {
   "cell_type": "code",
   "execution_count": 5,
   "id": "759655f6-9d26-4656-923f-bad154d3b400",
   "metadata": {},
   "outputs": [
    {
     "ename": "NameError",
     "evalue": "name 'np' is not defined",
     "output_type": "error",
     "traceback": [
      "\u001b[0;31m---------------------------------------------------------------------------\u001b[0m",
      "\u001b[0;31mNameError\u001b[0m                                 Traceback (most recent call last)",
      "Cell \u001b[0;32mIn[5], line 1\u001b[0m\n\u001b[0;32m----> 1\u001b[0m sample_weight \u001b[39m=\u001b[39m np\u001b[39m.\u001b[39mones(shape\u001b[39m=\u001b[39mytrain\u001b[39m.\u001b[39mshape)\n\u001b[1;32m      2\u001b[0m sample_weight[ytrain[:,:,\u001b[39m0\u001b[39m]] \u001b[39m=\u001b[39m \u001b[39m2\u001b[39m\n",
      "\u001b[0;31mNameError\u001b[0m: name 'np' is not defined"
     ]
    }
   ],
   "source": [
    "# adding sample weights\n",
    "\n",
    "sample_weight = np.ones(shape=ytrain.shape)\n",
    "sample_weight[ytrain[:,:,0]] = 2"
   ]
  },
  {
   "cell_type": "code",
   "execution_count": 22,
   "id": "dedcaa6c-2778-4b49-be77-b861d9aabea4",
   "metadata": {},
   "outputs": [
    {
     "name": "stdout",
     "output_type": "stream",
     "text": [
      "Epoch 1/20\n"
     ]
    },
    {
     "name": "stderr",
     "output_type": "stream",
     "text": [
      "2023-08-23 01:58:35.017369: I tensorflow/core/grappler/optimizers/custom_graph_optimizer_registry.cc:114] Plugin optimizer for device_type GPU is enabled.\n"
     ]
    },
    {
     "name": "stdout",
     "output_type": "stream",
     "text": [
      "291/291 [==============================] - ETA: 0s - loss: 0.1501 - binary_accuracy: 0.8710"
     ]
    },
    {
     "name": "stderr",
     "output_type": "stream",
     "text": [
      "2023-08-23 02:01:43.710097: I tensorflow/core/grappler/optimizers/custom_graph_optimizer_registry.cc:114] Plugin optimizer for device_type GPU is enabled.\n"
     ]
    },
    {
     "name": "stdout",
     "output_type": "stream",
     "text": [
      "291/291 [==============================] - 201s 590ms/step - loss: 0.1501 - binary_accuracy: 0.8710 - val_loss: 0.1072 - val_binary_accuracy: 0.8790\n",
      "Epoch 2/20\n",
      "291/291 [==============================] - 204s 700ms/step - loss: 0.1414 - binary_accuracy: 0.8902 - val_loss: 0.1025 - val_binary_accuracy: 0.8806\n",
      "Epoch 3/20\n",
      "291/291 [==============================] - 203s 698ms/step - loss: 0.1405 - binary_accuracy: 0.8907 - val_loss: 0.1013 - val_binary_accuracy: 0.8792\n",
      "Epoch 4/20\n",
      "291/291 [==============================] - 204s 702ms/step - loss: 0.1399 - binary_accuracy: 0.8906 - val_loss: 0.1005 - val_binary_accuracy: 0.8809\n",
      "Epoch 5/20\n",
      "291/291 [==============================] - 200s 686ms/step - loss: 0.1396 - binary_accuracy: 0.8904 - val_loss: 0.1023 - val_binary_accuracy: 0.8782\n",
      "Epoch 6/20\n",
      "291/291 [==============================] - 201s 690ms/step - loss: 0.1393 - binary_accuracy: 0.8911 - val_loss: 0.1007 - val_binary_accuracy: 0.8799\n",
      "Epoch 7/20\n",
      "291/291 [==============================] - 1133s 4s/step - loss: 0.1392 - binary_accuracy: 0.8904 - val_loss: 0.2901 - val_binary_accuracy: 0.7442\n",
      "Epoch 8/20\n",
      "291/291 [==============================] - 3133s 11s/step - loss: 0.1396 - binary_accuracy: 0.8898 - val_loss: 0.1022 - val_binary_accuracy: 0.8811\n",
      "Epoch 9/20\n",
      "291/291 [==============================] - 4081s 14s/step - loss: 0.1389 - binary_accuracy: 0.8907 - val_loss: 0.1023 - val_binary_accuracy: 0.8806\n",
      "Epoch 10/20\n",
      "291/291 [==============================] - 3960s 14s/step - loss: 0.1381 - binary_accuracy: 0.8910 - val_loss: 0.1012 - val_binary_accuracy: 0.8812\n",
      "Epoch 11/20\n",
      "291/291 [==============================] - 4081s 14s/step - loss: 0.1381 - binary_accuracy: 0.8913 - val_loss: 0.1005 - val_binary_accuracy: 0.8811\n",
      "Epoch 12/20\n",
      "291/291 [==============================] - 4069s 14s/step - loss: 0.1375 - binary_accuracy: 0.8911 - val_loss: 0.1008 - val_binary_accuracy: 0.8813\n",
      "Epoch 13/20\n",
      "291/291 [==============================] - 191s 656ms/step - loss: 0.1373 - binary_accuracy: 0.8914 - val_loss: 0.1049 - val_binary_accuracy: 0.8708\n",
      "Epoch 14/20\n",
      "291/291 [==============================] - 197s 676ms/step - loss: 0.1366 - binary_accuracy: 0.8920 - val_loss: 0.1025 - val_binary_accuracy: 0.8806\n",
      "Epoch 15/20\n",
      "291/291 [==============================] - 192s 660ms/step - loss: 0.1362 - binary_accuracy: 0.8917 - val_loss: 0.0987 - val_binary_accuracy: 0.8822\n",
      "Epoch 16/20\n",
      "291/291 [==============================] - 196s 673ms/step - loss: 0.1360 - binary_accuracy: 0.8919 - val_loss: 0.1011 - val_binary_accuracy: 0.8809\n",
      "Epoch 17/20\n",
      "291/291 [==============================] - 1688s 6s/step - loss: 0.1349 - binary_accuracy: 0.8922 - val_loss: 0.0994 - val_binary_accuracy: 0.8821\n",
      "Epoch 18/20\n",
      "291/291 [==============================] - 1090s 4s/step - loss: 0.1347 - binary_accuracy: 0.8920 - val_loss: 0.0994 - val_binary_accuracy: 0.8781\n",
      "Epoch 19/20\n",
      "291/291 [==============================] - 196s 675ms/step - loss: 0.1343 - binary_accuracy: 0.8920 - val_loss: 0.0981 - val_binary_accuracy: 0.8814\n",
      "Epoch 20/20\n",
      "291/291 [==============================] - 196s 674ms/step - loss: 0.1340 - binary_accuracy: 0.8922 - val_loss: 0.1021 - val_binary_accuracy: 0.8808\n"
     ]
    }
   ],
   "source": [
    "history = model.fit(Xtrain, ytrain.astype(int), \n",
    "                    epochs=20, \n",
    "                    validation_data=(Xvalid, yvalid.astype(int)),\n",
    "                    batch_size=64, sample_weight=sample_weight)"
   ]
  },
  {
   "cell_type": "code",
   "execution_count": 23,
   "id": "7f46eb74-9b44-498e-9cbe-46b5345aede2",
   "metadata": {},
   "outputs": [
    {
     "name": "stderr",
     "output_type": "stream",
     "text": [
      "2023-08-23 09:05:27.056415: I tensorflow/core/grappler/optimizers/custom_graph_optimizer_registry.cc:114] Plugin optimizer for device_type GPU is enabled.\n"
     ]
    },
    {
     "name": "stdout",
     "output_type": "stream",
     "text": [
      "125/125 [==============================] - 13s 60ms/step\n"
     ]
    },
    {
     "name": "stderr",
     "output_type": "stream",
     "text": [
      "/Users/polinasimkina/apneal_project/notebooks/../src/visualisation.py:20: UserWarning: color is redundantly defined by the 'color' keyword argument and the fmt string \"k--\" (-> color='k'). The keyword argument will take precedence.\n",
      "  ax[0].plot([0, 1], [0, 1], 'k--', color='red')\n"
     ]
    },
    {
     "data": {
      "image/png": "[encoded data removed]",
      "text/plain": [
       "<Figure size 1500x500 with 3 Axes>"
      ]
     },
     "metadata": {},
     "output_type": "display_data"
    }
   ],
   "source": [
    "ypr = model.predict(Xvalid)\n",
    "draw_metrics(ypr, yvalid)"
   ]
  },
  {
   "cell_type": "code",
   "execution_count": 24,
   "id": "037c0ce0-f71e-43d9-a147-03ee97f82116",
   "metadata": {},
   "outputs": [],
   "source": [
    "# Save the weights\n",
    "model.save_weights('../models/opt_loss')"
   ]
  },
  {
   "cell_type": "markdown",
   "id": "d2365404-b569-4f74-848a-6e2edf6cf15f",
   "metadata": {},
   "source": [
    "# Test the model on the test dataset"
   ]
  },
  {
   "cell_type": "code",
   "execution_count": 25,
   "id": "403a328a-fe1d-417f-bfc2-ee12db3d0f43",
   "metadata": {},
   "outputs": [
    {
     "name": "stdout",
     "output_type": "stream",
     "text": [
      "125/125 [==============================] - 6s 45ms/step\n"
     ]
    },
    {
     "name": "stderr",
     "output_type": "stream",
     "text": [
      "/Users/polinasimkina/apneal_project/notebooks/../src/visualisation.py:20: UserWarning: color is redundantly defined by the 'color' keyword argument and the fmt string \"k--\" (-> color='k'). The keyword argument will take precedence.\n",
      "  ax[0].plot([0, 1], [0, 1], 'k--', color='red')\n"
     ]
    },
    {
     "data": {
      "image/png": "[encoded data removed]",
      "text/plain": [
       "<Figure size 1500x500 with 3 Axes>"
      ]
     },
     "metadata": {},
     "output_type": "display_data"
    }
   ],
   "source": [
    "ypr_test = model.predict(Xtest)\n",
    "draw_metrics(ypr_test, ytest)"
   ]
  }
 ],
 "metadata": {
  "kernelspec": {
   "display_name": "Python 3 (ipykernel)",
   "language": "python",
   "name": "python3"
  },
  "language_info": {
   "codemirror_mode": {
    "name": "ipython",
    "version": 3
   },
   "file_extension": ".py",
   "mimetype": "text/x-python",
   "name": "python",
   "nbconvert_exporter": "python",
   "pygments_lexer": "ipython3",
   "version": "3.8.17"
  }
 },
 "nbformat": 4,
 "nbformat_minor": 5
}
